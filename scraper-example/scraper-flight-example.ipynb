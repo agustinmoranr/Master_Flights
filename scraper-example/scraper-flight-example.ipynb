{
 "cells": [
  {
   "cell_type": "markdown",
   "metadata": {},
   "source": [
    "# Scraper example - Find and scrap flight and stopover information\n"
   ]
  },
  {
   "cell_type": "markdown",
   "metadata": {},
   "source": [
    "### This example is based on the Course \"Curso de Web Scraping: Extracción de Datos en la Web\" on Platzi.\n",
    "#### Warning: The course was made some months ago. Be aware that the instructions, version and details there may have been changed"
   ]
  },
  {
   "cell_type": "code",
   "execution_count": null,
   "metadata": {},
   "outputs": [],
   "source": [
    "\n"
   ]
  },
  {
   "cell_type": "markdown",
   "metadata": {},
   "source": [
    "## Setup and firts attempts..."
   ]
  },
  {
   "cell_type": "code",
   "execution_count": 1,
   "metadata": {},
   "outputs": [],
   "source": [
    "# The URL of flight info to use first it will be this\n",
    "\n",
    "url='https://www.latam.com/es_mx/apps/personas/booking?fecha1_dia=01&fecha1_anomes=2020-11&auAvailability=1&ida_vuelta=ida&vuelos_origen=Ciudad%20de%20M%C3%A9xico&from_city1=BUE&vuelos_destino=Canc%C3%BAn&to_city1=MAD&flex=1&vuelos_fecha_salida_ddmmaaaa=29/08/2020&cabina=Y&nadults=1&nchildren=0&ninfants=0&cod_promo=&stopover_outbound_days=0&stopover_inbound_days=0&application=#/'\n",
    "#url='https://www.latam.com/es_mx/apps/personas/booking?fecha1_dia=01&fecha1_anomes=2020-12&auAvailability=1&ida_vuelta=ida&vuelos_origen=Ciudad%20de%20M%C3%A9xico&from_city1=BOG&vuelos_destino=Bogot%C3%A1&to_city1=CTG&flex=1&vuelos_fecha_salida_ddmmaaaa=01/09/2020&cabina=Y&nadults=1&nchildren=0&ninfants=0&cod_promo=&stopover_outbound_days=0&stopover_inbound_days=0&application=#/'\n",
    "\n",
    "# Surely you have to change the parameters or the entire example URL on the future to get this working."
   ]
  },
  {
   "cell_type": "code",
   "execution_count": 2,
   "metadata": {},
   "outputs": [],
   "source": [
    "# The page use JS on some buttons and modals, so we need selenium to interact with the data\n",
    "\n",
    "from selenium import webdriver\n"
   ]
  },
  {
   "cell_type": "code",
   "execution_count": 3,
   "metadata": {},
   "outputs": [],
   "source": [
    "options = webdriver.ChromeOptions()\n",
    "options.add_argument('--incognito')\n",
    "driver = webdriver.Chrome(executable_path='../../chromedriver', options=options)"
   ]
  },
  {
   "cell_type": "code",
   "execution_count": 4,
   "metadata": {},
   "outputs": [],
   "source": [
    "# Get the url \n",
    "driver.get(url)"
   ]
  },
  {
   "cell_type": "code",
   "execution_count": 5,
   "metadata": {},
   "outputs": [
    {
     "data": {
      "text/plain": [
       "[<selenium.webdriver.remote.webelement.WebElement (session=\"aea87015ca4b5123671227c36e025a29\", element=\"827853f7-df66-4aa5-bf1d-7c500df9c9d3\")>,\n",
       " <selenium.webdriver.remote.webelement.WebElement (session=\"aea87015ca4b5123671227c36e025a29\", element=\"6a6a6b36-f12c-426b-b20d-604b3b2e0d2d\")>,\n",
       " <selenium.webdriver.remote.webelement.WebElement (session=\"aea87015ca4b5123671227c36e025a29\", element=\"bb1372e3-e533-4ce3-a893-aa921361941a\")>,\n",
       " <selenium.webdriver.remote.webelement.WebElement (session=\"aea87015ca4b5123671227c36e025a29\", element=\"ee3a6246-e724-44d3-822e-0f44db19b23c\")>,\n",
       " <selenium.webdriver.remote.webelement.WebElement (session=\"aea87015ca4b5123671227c36e025a29\", element=\"119759e2-fb3b-483a-8ecb-e4ffb5bd96a7\")>,\n",
       " <selenium.webdriver.remote.webelement.WebElement (session=\"aea87015ca4b5123671227c36e025a29\", element=\"d7c38826-3c64-433d-8431-2ad4aec211c2\")>,\n",
       " <selenium.webdriver.remote.webelement.WebElement (session=\"aea87015ca4b5123671227c36e025a29\", element=\"0d4cd15b-2c52-41bc-9ac5-7f5fc161fa5c\")>,\n",
       " <selenium.webdriver.remote.webelement.WebElement (session=\"aea87015ca4b5123671227c36e025a29\", element=\"73e299fe-e3bf-489d-8f44-3bc998fc80bb\")>,\n",
       " <selenium.webdriver.remote.webelement.WebElement (session=\"aea87015ca4b5123671227c36e025a29\", element=\"b615071d-2eaf-42e7-8360-b6bc6ffe97d3\")>,\n",
       " <selenium.webdriver.remote.webelement.WebElement (session=\"aea87015ca4b5123671227c36e025a29\", element=\"a26d265c-c024-40e8-a5b5-25d058193c5e\")>,\n",
       " <selenium.webdriver.remote.webelement.WebElement (session=\"aea87015ca4b5123671227c36e025a29\", element=\"21836a6a-a1b2-4b4d-92e7-a908296b87a8\")>,\n",
       " <selenium.webdriver.remote.webelement.WebElement (session=\"aea87015ca4b5123671227c36e025a29\", element=\"36ae9be5-aa34-4b90-be5a-4a7d6204191a\")>,\n",
       " <selenium.webdriver.remote.webelement.WebElement (session=\"aea87015ca4b5123671227c36e025a29\", element=\"232f54f0-a42a-4f9e-9743-8c07a579ee78\")>,\n",
       " <selenium.webdriver.remote.webelement.WebElement (session=\"aea87015ca4b5123671227c36e025a29\", element=\"e8543074-2fe8-4a54-bb7d-7ea7330c9fdb\")>,\n",
       " <selenium.webdriver.remote.webelement.WebElement (session=\"aea87015ca4b5123671227c36e025a29\", element=\"f28993e2-e57d-46df-a2ba-ca651ddb300a\")>,\n",
       " <selenium.webdriver.remote.webelement.WebElement (session=\"aea87015ca4b5123671227c36e025a29\", element=\"9b6249c9-9ce9-48b9-ac68-2664a7c5f552\")>,\n",
       " <selenium.webdriver.remote.webelement.WebElement (session=\"aea87015ca4b5123671227c36e025a29\", element=\"569b45c5-2956-4a2c-83d5-a48367ef9f1d\")>,\n",
       " <selenium.webdriver.remote.webelement.WebElement (session=\"aea87015ca4b5123671227c36e025a29\", element=\"1ec7b91b-5df4-4a65-9339-7c54a90fef8b\")>,\n",
       " <selenium.webdriver.remote.webelement.WebElement (session=\"aea87015ca4b5123671227c36e025a29\", element=\"05d0206b-58d9-4e05-a9c8-1dcbf4635b22\")>,\n",
       " <selenium.webdriver.remote.webelement.WebElement (session=\"aea87015ca4b5123671227c36e025a29\", element=\"7325203d-1a9b-4b5a-8498-e00846331bb5\")>]"
      ]
     },
     "execution_count": 5,
     "metadata": {},
     "output_type": "execute_result"
    }
   ],
   "source": [
    "# Try to get the flights\n",
    "flights = driver.find_elements_by_xpath('//li[@class=\"flight\"]')\n",
    "flights"
   ]
  },
  {
   "cell_type": "code",
   "execution_count": 61,
   "metadata": {},
   "outputs": [],
   "source": [
    "# Don´t forget to close the driver\n",
    "driver.close()"
   ]
  },
  {
   "cell_type": "markdown",
   "metadata": {},
   "source": [
    "## Scrap data from one flight\n"
   ]
  },
  {
   "cell_type": "code",
   "execution_count": 50,
   "metadata": {},
   "outputs": [
    {
     "data": {
      "text/plain": [
       "<selenium.webdriver.remote.webelement.WebElement (session=\"aea87015ca4b5123671227c36e025a29\", element=\"827853f7-df66-4aa5-bf1d-7c500df9c9d3\")>"
      ]
     },
     "execution_count": 50,
     "metadata": {},
     "output_type": "execute_result"
    }
   ],
   "source": [
    "# Select one flight\n",
    "flight = flights[0]\n",
    "flight"
   ]
  },
  {
   "cell_type": "code",
   "execution_count": 8,
   "metadata": {},
   "outputs": [
    {
     "data": {
      "text/plain": [
       "'EZE'"
      ]
     },
     "execution_count": 8,
     "metadata": {},
     "output_type": "execute_result"
    }
   ],
   "source": [
    "# Get departure\n",
    "departure = flight.find_element_by_xpath('.//div[@class=\"departure\"]/span[@class=\"ground-point-name\"]').text\n",
    "departure\n"
   ]
  },
  {
   "cell_type": "code",
   "execution_count": 9,
   "metadata": {},
   "outputs": [
    {
     "data": {
      "text/plain": [
       "'18:35'"
      ]
     },
     "execution_count": 9,
     "metadata": {},
     "output_type": "execute_result"
    }
   ],
   "source": [
    "departure_time = flight.find_element_by_xpath('.//div[@class=\"departure\"]/time').get_attribute('datetime')\n",
    "departure_time\n"
   ]
  },
  {
   "cell_type": "code",
   "execution_count": 10,
   "metadata": {},
   "outputs": [
    {
     "data": {
      "text/plain": [
       "'MAD'"
      ]
     },
     "execution_count": 10,
     "metadata": {},
     "output_type": "execute_result"
    }
   ],
   "source": [
    "arrival = flight.find_element_by_xpath('.//div[@class=\"arrival\"]/span[@class=\"ground-point-name\"]').text\n",
    "arrival\n"
   ]
  },
  {
   "cell_type": "code",
   "execution_count": 11,
   "metadata": {},
   "outputs": [
    {
     "data": {
      "text/plain": [
       "'13:10'"
      ]
     },
     "execution_count": 11,
     "metadata": {},
     "output_type": "execute_result"
    }
   ],
   "source": [
    "arrival_time = flight.find_element_by_xpath('.//div[@class=\"arrival\"]/time').get_attribute('datetime')\n",
    "arrival_time\n"
   ]
  },
  {
   "cell_type": "code",
   "execution_count": 12,
   "metadata": {},
   "outputs": [
    {
     "data": {
      "text/plain": [
       "'14H35M'"
      ]
     },
     "execution_count": 12,
     "metadata": {},
     "output_type": "execute_result"
    }
   ],
   "source": [
    "duration = flight.find_element_by_xpath('.//span[@class=\"duration\"]/time').get_attribute('datetime')\n",
    "# duration\n",
    "duration = duration.replace('PT', '')\n",
    "duration\n"
   ]
  },
  {
   "cell_type": "code",
   "execution_count": 13,
   "metadata": {},
   "outputs": [
    {
     "data": {
      "text/plain": [
       "'US$'"
      ]
     },
     "execution_count": 13,
     "metadata": {},
     "output_type": "execute_result"
    }
   ],
   "source": [
    "#price = flight.find_element_by_xpath('.//span[@class=\"currency-symbol\"]').text\n",
    "#price\n",
    "\n",
    "currency = flight.find_element_by_xpath('.//span[@class=\"price\"]/span[@class=\"currency-symbol\"]').text\n",
    "currency\n"
   ]
  },
  {
   "cell_type": "code",
   "execution_count": 14,
   "metadata": {},
   "outputs": [
    {
     "data": {
      "text/plain": [
       "'551'"
      ]
     },
     "execution_count": 14,
     "metadata": {},
     "output_type": "execute_result"
    }
   ],
   "source": [
    "price = flight.find_element_by_xpath('.//span[@class=\"price\"]/span[@class=\"value\"]').text\n",
    "price\n"
   ]
  },
  {
   "cell_type": "code",
   "execution_count": 15,
   "metadata": {},
   "outputs": [],
   "source": [
    "### It works! So, we can iterate to get all the flights on the page"
   ]
  },
  {
   "cell_type": "markdown",
   "metadata": {},
   "source": [
    "## Try to scrap stopover details"
   ]
  },
  {
   "cell_type": "code",
   "execution_count": 16,
   "metadata": {},
   "outputs": [
    {
     "data": {
      "text/plain": [
       "<selenium.webdriver.remote.webelement.WebElement (session=\"aea87015ca4b5123671227c36e025a29\", element=\"f62601e8-ee10-4fa3-90c5-a39837a6754b\")>"
      ]
     },
     "execution_count": 16,
     "metadata": {},
     "output_type": "execute_result"
    }
   ],
   "source": [
    "# Select the button that show stopover details\n",
    "stopover_button = flight.find_element_by_xpath('.//div[@class=\"flight-summary-stops-description\"]/button')\n",
    "stopover_button"
   ]
  },
  {
   "cell_type": "code",
   "execution_count": 17,
   "metadata": {},
   "outputs": [],
   "source": [
    "# Do the 'click' on that button\n",
    "stopover_button.click()"
   ]
  },
  {
   "cell_type": "code",
   "execution_count": 18,
   "metadata": {},
   "outputs": [
    {
     "data": {
      "text/plain": [
       "[<selenium.webdriver.remote.webelement.WebElement (session=\"aea87015ca4b5123671227c36e025a29\", element=\"c5c22b34-de6e-4334-a2cb-c2a7ec733f26\")>,\n",
       " <selenium.webdriver.remote.webelement.WebElement (session=\"aea87015ca4b5123671227c36e025a29\", element=\"17f4c210-2b05-48db-a8f6-7adfb1a98827\")>]"
      ]
     },
     "execution_count": 18,
     "metadata": {},
     "output_type": "execute_result"
    }
   ],
   "source": [
    "# Select the first segment\n",
    "segments = flight.find_elements_by_xpath('//div[@class=\"sc-hZSUBg gfeULV\"]//div[@class=\"sc-cLQEGU hyoued\"]')\n",
    "segments\n"
   ]
  },
  {
   "cell_type": "code",
   "execution_count": 19,
   "metadata": {},
   "outputs": [
    {
     "data": {
      "text/plain": [
       "1"
      ]
     },
     "execution_count": 19,
     "metadata": {},
     "output_type": "execute_result"
    }
   ],
   "source": [
    "# How many stopovers are there?\n",
    "stopovers = len(segments) - 1\n",
    "stopovers\n"
   ]
  },
  {
   "cell_type": "code",
   "execution_count": 20,
   "metadata": {},
   "outputs": [
    {
     "data": {
      "text/plain": [
       "<selenium.webdriver.remote.webelement.WebElement (session=\"aea87015ca4b5123671227c36e025a29\", element=\"c5c22b34-de6e-4334-a2cb-c2a7ec733f26\")>"
      ]
     },
     "execution_count": 20,
     "metadata": {},
     "output_type": "execute_result"
    }
   ],
   "source": [
    "# Select the departure section\n",
    "segment = segments[0]\n",
    "segment"
   ]
  },
  {
   "cell_type": "code",
   "execution_count": 21,
   "metadata": {},
   "outputs": [
    {
     "data": {
      "text/plain": [
       "'18:35'"
      ]
     },
     "execution_count": 21,
     "metadata": {},
     "output_type": "execute_result"
    }
   ],
   "source": [
    "# Departure time\n",
    "# time_departure = segment.find_element_by_xpath('.//div[@class=\"sc-gwVKww iahkEA\"]/div[@class=\"sc-bwCtUz iybVbT\"]/time').text\n",
    "departure_time = segment.find_element_by_xpath('//span[@class=\"sc-bsbRJL bMMExG\"][1]/div/span/div/div/time').text\n",
    "departure_time"
   ]
  },
  {
   "cell_type": "markdown",
   "metadata": {},
   "source": [
    "## Scrap the departure data"
   ]
  },
  {
   "cell_type": "code",
   "execution_count": 22,
   "metadata": {},
   "outputs": [
    {
     "data": {
      "text/plain": [
       "'18:35'"
      ]
     },
     "execution_count": 22,
     "metadata": {},
     "output_type": "execute_result"
    }
   ],
   "source": [
    "departure_time = segment.find_element_by_xpath('//span[@class=\"sc-bsbRJL bMMExG\"][1]/div/span/div/div/time').text\n",
    "departure_time\n"
   ]
  },
  {
   "cell_type": "code",
   "execution_count": 23,
   "metadata": {},
   "outputs": [
    {
     "data": {
      "text/plain": [
       "'EZE'"
      ]
     },
     "execution_count": 23,
     "metadata": {},
     "output_type": "execute_result"
    }
   ],
   "source": [
    "# Departure\n",
    "# departure = segment.find_element_by_xpath('.//div[@class=\"sc-gwVKww iahkEA\"]/div[@class=\"sc-bwCtUz iybVbT\"]/abbr').text\n",
    "departure = segment.find_element_by_xpath('//span[@class=\"sc-bsbRJL bMMExG\"][1]/div/span/div/div/abbr').text\n",
    "departure\n"
   ]
  },
  {
   "cell_type": "code",
   "execution_count": 24,
   "metadata": {},
   "outputs": [
    {
     "data": {
      "text/plain": [
       "'Salida a las 18 Horas 35 Minutos, de Ezeiza Intl.'"
      ]
     },
     "execution_count": 24,
     "metadata": {},
     "output_type": "execute_result"
    }
   ],
   "source": [
    "# Departure_info\n",
    "# departure_info = segment.find_element_by_xpath('.//div[@class=\"sc-gwVKww iahkEA\"]/div[@class=\"sc-bwCtUz iybVbT\"]/span').text\n",
    "departure_info = segment.find_element_by_xpath('//span[@class=\"sc-bsbRJL bMMExG\"][1]/div/span/div/div/span').text\n",
    "departure_info\n"
   ]
  },
  {
   "cell_type": "code",
   "execution_count": 25,
   "metadata": {},
   "outputs": [
    {
     "data": {
      "text/plain": [
       "'Ezeiza Intl.'"
      ]
     },
     "execution_count": 25,
     "metadata": {},
     "output_type": "execute_result"
    }
   ],
   "source": [
    "# Arrival airport_name\n",
    "# arrival_airport_name = segment.find_element_by_xpath('.//span[@class=\"sc-eTuwsz eumCTU\"]/span[@class=\"sc-hXRMBi gVvErD\"]').text\n",
    "arrival_airport_name = segment.find_element_by_xpath('//span[@class=\"sc-bsbRJL bMMExG\"][1]/div/span/span').text\n",
    "arrival_airport_name\n"
   ]
  },
  {
   "cell_type": "code",
   "execution_count": 26,
   "metadata": {},
   "outputs": [
    {
     "data": {
      "text/plain": [
       "'2:45'"
      ]
     },
     "execution_count": 26,
     "metadata": {},
     "output_type": "execute_result"
    }
   ],
   "source": [
    "#Flight Duration\n",
    "flight_duration = segment.find_element_by_xpath('.//div[@class=\"sc-esOvli iQSbOQ\"]//span[@class=\"sc-esjQYD dMquDU\"]/time').get_attribute('datetime')\n",
    "# flight_duration = segment.find_element_by_xpath('.//span[@class=\"sc-cmthru ipc0EH\"][2]//span[@class=\"sc-esjQYD dMquDU\"]/time').text\n",
    "flight_duration"
   ]
  },
  {
   "cell_type": "code",
   "execution_count": 27,
   "metadata": {},
   "outputs": [
    {
     "data": {
      "text/plain": [
       "'21:20'"
      ]
     },
     "execution_count": 27,
     "metadata": {},
     "output_type": "execute_result"
    }
   ],
   "source": [
    "# Arrival time\n",
    "arrival_time = segment.find_element_by_xpath('//span[@class=\"sc-bsbRJL bMMExG\"][2]/div/span/div/div/time').text\n",
    "arrival_time\n"
   ]
  },
  {
   "cell_type": "code",
   "execution_count": 28,
   "metadata": {},
   "outputs": [
    {
     "data": {
      "text/plain": [
       "'GRU'"
      ]
     },
     "execution_count": 28,
     "metadata": {},
     "output_type": "execute_result"
    }
   ],
   "source": [
    "# Destination\n",
    "arrival = segment.find_element_by_xpath('//span[@class=\"sc-bsbRJL bMMExG\"][2]/div/span/div/div/abbr').text\n",
    "arrival\n"
   ]
  },
  {
   "cell_type": "code",
   "execution_count": 29,
   "metadata": {},
   "outputs": [
    {
     "data": {
      "text/plain": [
       "'Llegada a las 21 Horas 20 Minutos, a Guarulhos Intl.'"
      ]
     },
     "execution_count": 29,
     "metadata": {},
     "output_type": "execute_result"
    }
   ],
   "source": [
    "# Arrival info\n",
    "arrival_info = segment.find_element_by_xpath('//span[@class=\"sc-bsbRJL bMMExG\"][2]/div/span/div/div/span').text\n",
    "arrival_info\n"
   ]
  },
  {
   "cell_type": "code",
   "execution_count": 30,
   "metadata": {},
   "outputs": [
    {
     "data": {
      "text/plain": [
       "'Guarulhos Intl.'"
      ]
     },
     "execution_count": 30,
     "metadata": {},
     "output_type": "execute_result"
    }
   ],
   "source": [
    "# Arrival Airport Name\n",
    "arrival_airport_name = segment.find_element_by_xpath('//span[@class=\"sc-bsbRJL bMMExG\"][2]/div/span/span').text\n",
    "arrival_airport_name\n"
   ]
  },
  {
   "cell_type": "markdown",
   "metadata": {},
   "source": [
    "#### Getting stopover details\n"
   ]
  },
  {
   "cell_type": "code",
   "execution_count": 31,
   "metadata": {},
   "outputs": [
    {
     "data": {
      "text/plain": [
       "'https://s.latamstatic.com/images/shopping/airlines/symbol-color-positive.svg'"
      ]
     },
     "execution_count": 31,
     "metadata": {},
     "output_type": "execute_result"
    }
   ],
   "source": [
    "# Company img\n",
    "company_img = segment.find_element_by_xpath('//div[@class=\"sc-hMFtBS bGZqFm\"]/div/div/div/img').get_attribute('src')\n",
    "# or\n",
    "company_img = segment.find_element_by_xpath('//div[@class=\"sc-hMFtBS bGZqFm\"]//img[@class=\"airline-logo-picker sc-iyvyFf kTHKNe\"]').get_attribute('src')\n",
    "company_img\n"
   ]
  },
  {
   "cell_type": "code",
   "execution_count": 32,
   "metadata": {},
   "outputs": [
    {
     "data": {
      "text/plain": [
       "'LATAM Airlines Brasil'"
      ]
     },
     "execution_count": 32,
     "metadata": {},
     "output_type": "execute_result"
    }
   ],
   "source": [
    "# Company alt name\n",
    "company_logo_name = segment.find_element_by_xpath('//div[@class=\"sc-hMFtBS bGZqFm\"]/div/div/div/img').get_attribute('alt')\n",
    "# or\n",
    "company_logo_name = segment.find_element_by_xpath('//div[@class=\"sc-hMFtBS bGZqFm\"]//img[@class=\"airline-logo-picker sc-iyvyFf kTHKNe\"]').get_attribute('alt')\n",
    "company_logo_name\n"
   ]
  },
  {
   "cell_type": "code",
   "execution_count": 33,
   "metadata": {},
   "outputs": [
    {
     "data": {
      "text/plain": [
       "'LA8011'"
      ]
     },
     "execution_count": 33,
     "metadata": {},
     "output_type": "execute_result"
    }
   ],
   "source": [
    "# Flight number\n",
    "flight_number = segment.find_element_by_xpath('//div[@class=\"sc-hMFtBS bGZqFm\"]//div[@class=\"airline-flight-details\"]/b').text\n",
    "# or\n",
    "flight_number = segment.find_element_by_xpath('//div[@class=\"sc-hMFtBS bGZqFm\"]//div[@class=\"airline-flight-details\"]/b').text\n",
    "flight_number\n"
   ]
  },
  {
   "cell_type": "code",
   "execution_count": 34,
   "metadata": {},
   "outputs": [
    {
     "data": {
      "text/plain": [
       "'Airbus 320-200'"
      ]
     },
     "execution_count": 34,
     "metadata": {},
     "output_type": "execute_result"
    }
   ],
   "source": [
    "# Airplane_type\n",
    "airplane_type = segment.find_element_by_xpath('//div[@class=\"sc-hMFtBS bGZqFm\"]//div[@class=\"airline-flight-details\"]/span[2]').text\n",
    "# or\n",
    "airplane_type = segment.find_element_by_xpath('//div[@class=\"sc-hMFtBS bGZqFm\"]//span[@class=\"sc-gzOgki uTyOl\"]').text\n",
    "airplane_type\n"
   ]
  },
  {
   "cell_type": "code",
   "execution_count": 35,
   "metadata": {},
   "outputs": [
    {
     "data": {
      "text/plain": [
       "'Operado por LATAM Airlines Brasil'"
      ]
     },
     "execution_count": 35,
     "metadata": {},
     "output_type": "execute_result"
    }
   ],
   "source": [
    "# Flight_info\n",
    "flight_info = segment.find_element_by_xpath('//div[@class=\"sc-hMFtBS bGZqFm\"]//div[@class=\"airline-flight-details\"]/span[2]').text\n",
    "# or\n",
    "flight_info = segment.find_element_by_xpath('//div[@class=\"sc-hMFtBS bGZqFm\"]//span[@class=\"sc-kfGgVZ lccoDs\"]').text\n",
    "flight_info\n"
   ]
  },
  {
   "cell_type": "code",
   "execution_count": 36,
   "metadata": {},
   "outputs": [
    {
     "data": {
      "text/plain": [
       "'Conexión en Sao Paulo'"
      ]
     },
     "execution_count": 36,
     "metadata": {},
     "output_type": "execute_result"
    }
   ],
   "source": [
    "# Stopover Connection\n",
    "stopover_connection = segment.find_element_by_xpath('//div[@class=\"sc-cLQEGU dnKRNG\"]//div[@class=\"sc-hMFtBS cfwWiO\"]/span').text\n",
    "stopover_connection\n"
   ]
  },
  {
   "cell_type": "code",
   "execution_count": 37,
   "metadata": {},
   "outputs": [
    {
     "data": {
      "text/plain": [
       "'(cambio de avión)'"
      ]
     },
     "execution_count": 37,
     "metadata": {},
     "output_type": "execute_result"
    }
   ],
   "source": [
    "# Stopover Detail\n",
    "stopover_detail = segment.find_element_by_xpath('//div[@class=\"sc-cLQEGU dnKRNG\"]//div[@class=\"sc-hMFtBS cfwWiO\"]/span[2]').text\n",
    "stopover_detail\n"
   ]
  },
  {
   "cell_type": "code",
   "execution_count": 38,
   "metadata": {},
   "outputs": [
    {
     "data": {
      "text/plain": [
       "'1:35'"
      ]
     },
     "execution_count": 38,
     "metadata": {},
     "output_type": "execute_result"
    }
   ],
   "source": [
    "# Stopover Duration\n",
    "stopover_duration = segment.find_element_by_xpath('//div[@class=\"sc-cLQEGU dnKRNG\"]//span[@class=\"sc-esjQYD dMquDU\"]/time').get_attribute('datetime')\n",
    "stopover_duration\n"
   ]
  },
  {
   "cell_type": "code",
   "execution_count": 39,
   "metadata": {},
   "outputs": [],
   "source": [
    "# Closing modal window\n",
    "driver.find_element_by_xpath('//div[@class=\"modal-content sc-iwsKbI eHVGAN\"]//button[@class=\"close\"]').click()\n"
   ]
  },
  {
   "cell_type": "markdown",
   "metadata": {},
   "source": [
    "### Get all flight prices"
   ]
  },
  {
   "cell_type": "code",
   "execution_count": 40,
   "metadata": {},
   "outputs": [],
   "source": [
    "# Select one flight\n",
    "#flight = flights[0]\n",
    "#flight\n",
    "# Click to first flight\n",
    "flight.click()\n"
   ]
  },
  {
   "cell_type": "code",
   "execution_count": 41,
   "metadata": {},
   "outputs": [
    {
     "data": {
      "text/plain": [
       "[<selenium.webdriver.remote.webelement.WebElement (session=\"aea87015ca4b5123671227c36e025a29\", element=\"dc2be4af-3621-4bf0-81a2-4414b0b72352\")>,\n",
       " <selenium.webdriver.remote.webelement.WebElement (session=\"aea87015ca4b5123671227c36e025a29\", element=\"d7d6617f-6ed4-4387-8bed-f72c462da622\")>,\n",
       " <selenium.webdriver.remote.webelement.WebElement (session=\"aea87015ca4b5123671227c36e025a29\", element=\"2d956fc9-886c-46c4-9672-a1ebdc40bc96\")>]"
      ]
     },
     "execution_count": 41,
     "metadata": {},
     "output_type": "execute_result"
    }
   ],
   "source": [
    "# Get price sections\n",
    "fares = flight.find_elements_by_xpath('//div[@class=\"fares-table-container\"]//div[@class=\"fares-table-wrapper\"]//tfoot//td[contains(@class, \"fare\")]')\n",
    "fares\n"
   ]
  },
  {
   "cell_type": "code",
   "execution_count": 42,
   "metadata": {},
   "outputs": [
    {
     "data": {
      "text/plain": [
       "<selenium.webdriver.remote.webelement.WebElement (session=\"aea87015ca4b5123671227c36e025a29\", element=\"dc2be4af-3621-4bf0-81a2-4414b0b72352\")>"
      ]
     },
     "execution_count": 42,
     "metadata": {},
     "output_type": "execute_result"
    }
   ],
   "source": [
    "# Get first section\n",
    "fare = fares[0]\n",
    "fare\n"
   ]
  },
  {
   "cell_type": "code",
   "execution_count": 43,
   "metadata": {},
   "outputs": [
    {
     "data": {
      "text/plain": [
       "'LIGHT'"
      ]
     },
     "execution_count": 43,
     "metadata": {},
     "output_type": "execute_result"
    }
   ],
   "source": [
    "type_fare = fare.find_element_by_xpath('.//label').get_attribute('for')\n",
    "type_fare\n"
   ]
  },
  {
   "cell_type": "code",
   "execution_count": 44,
   "metadata": {},
   "outputs": [
    {
     "data": {
      "text/plain": [
       "'US$'"
      ]
     },
     "execution_count": 44,
     "metadata": {},
     "output_type": "execute_result"
    }
   ],
   "source": [
    "currency = fare.find_element_by_xpath('.//span[@class=\"price\"]/span[@class=\"currency-symbol\"]').text\n",
    "currency\n"
   ]
  },
  {
   "cell_type": "code",
   "execution_count": 45,
   "metadata": {},
   "outputs": [
    {
     "data": {
      "text/plain": [
       "'551'"
      ]
     },
     "execution_count": 45,
     "metadata": {},
     "output_type": "execute_result"
    }
   ],
   "source": [
    "price_fare = fare.find_element_by_xpath('.//span[@class=\"price\"]/span[@class=\"value\"]/span').text\n",
    "price_fare\n"
   ]
  },
  {
   "cell_type": "code",
   "execution_count": 46,
   "metadata": {},
   "outputs": [
    {
     "data": {
      "text/plain": [
       "{'LIGHT': {'moneda': 'US$', 'valor': '551'}}"
      ]
     },
     "execution_count": 46,
     "metadata": {},
     "output_type": "execute_result"
    }
   ],
   "source": [
    "dict_fare = {type_fare:{'moneda': currency, 'valor': price_fare}}\n",
    "dict_fare\n"
   ]
  },
  {
   "cell_type": "code",
   "execution_count": 47,
   "metadata": {},
   "outputs": [
    {
     "name": "stdout",
     "output_type": "stream",
     "text": [
      "{'LIGHT': {'moneda': 'US$', 'valor': '551'}}\n",
      "{'PLUS': {'moneda': 'US$', 'valor': '624'}}\n",
      "{'TOP': {'moneda': 'US$', 'valor': '707'}}\n"
     ]
    }
   ],
   "source": [
    "# Get all prices on a dictionary\n",
    "prices = []\n",
    "\n",
    "for fare in fares:\n",
    "    type_fare = fare.find_element_by_xpath('.//label').get_attribute('for')\n",
    "    currency = fare.find_element_by_xpath('.//span[@class=\"price\"]/span[@class=\"currency-symbol\"]').text\n",
    "    price_fare = fare.find_element_by_xpath('.//span[@class=\"price\"]/span[@class=\"value\"]/span').text\n",
    "    \n",
    "    dict_fares = {type_fare:{'moneda': currency, 'valor': price_fare}}\n",
    "    \n",
    "    prices.append(dict_fares)\n",
    "    print(dict_fares)\n",
    "\n"
   ]
  },
  {
   "cell_type": "markdown",
   "metadata": {},
   "source": [
    "## Create functions to initiate automatization\n"
   ]
  },
  {
   "cell_type": "code",
   "execution_count": 56,
   "metadata": {},
   "outputs": [],
   "source": [
    "def get_prices(flight):\n",
    "\n",
    "    '''\n",
    "    Function to get a dict list with the different prices\n",
    "    '''\n",
    "    \n",
    "    prices = []\n",
    "    \n",
    "    # Add a delay\n",
    "    # time.sleep(10)\n",
    "    delay = 150\n",
    "    try:\n",
    "        # Add a intelligent delay\n",
    "        print('Price Page loading...')\n",
    "        fares = WebDriverWait(driver, delay).until(EC.presence_of_element_located((By.XPATH, '//div[@class=\"fares-table-container\"]//div[@class=\"fares-table-wrapper\"]//tfoot//td[contains(@class, \"fare\")]')))\n",
    "        \n",
    "        fares = flight.find_elements_by_xpath('//div[@class=\"fares-table-container\"]//div[@class=\"fares-table-wrapper\"]//tfoot//td[contains(@class, \"fare\")]')\n",
    "        print('Price Page finish loading')\n",
    "        \n",
    "        for fare in fares:\n",
    "            print('   Getting prices')\n",
    "            #type_fare = WebDriverWait(driver, delay).until(EC.presence_of_element_located((By.XPATH, './/label')))\n",
    "            price_fare = WebDriverWait(driver, delay).until(EC.presence_of_element_located((By.XPATH, './/span[@class=\"price\"]/span[@class=\"value\"]/span')))\n",
    "            \n",
    "            price_fare = fare.find_element_by_xpath('.//span[@class=\"price\"]/span[@class=\"value\"]/span').text\n",
    "            type_fare = fare.find_element_by_xpath('.//label').get_attribute('for')\n",
    "            currency = fare.find_element_by_xpath('.//span[@class=\"price\"]/span[@class=\"currency-symbol\"]').text\n",
    "            \n",
    "\n",
    "            dict_fares = {type_fare:{'moneda': currency, 'valor': price_fare}}\n",
    "\n",
    "            prices.append(dict_fares)\n",
    "\n",
    "    except TimeoutException:\n",
    "        print('Price Page takes too long to load')\n",
    "        prices = []\n",
    "        \n",
    "    return prices"
   ]
  },
  {
   "cell_type": "code",
   "execution_count": 57,
   "metadata": {},
   "outputs": [],
   "source": [
    "def get_stopover(flight):\n",
    "    \n",
    "    '''\n",
    "    Function to get a dict list with info about the stopover of each flight\n",
    "    '''\n",
    "    \n",
    "    # Add a delay\n",
    "    # time.sleep(10)\n",
    "    delay = 400\n",
    "    try:\n",
    "        # Add a intelligent delay\n",
    "        print('Stopover modal loading...')\n",
    "        stopover_button = flight.find_element_by_xpath('.//div[@class=\"flight-summary-stops-description\"]/button')\n",
    "        stopover_button.click()\n",
    "        \n",
    "        \n",
    "        #segmentos = WebDriverWait(driver, delay).until(EC.presence_of_element_located((By.XPATH, '//div[@class=\"sc-hZSUBg gfeULV\"]//div[@class=\"sc-cLQEGU hyoued\"]')))\n",
    "        #segmentos = flight.find_elements_by_xpath('//div[@class=\"sc-hZSUBg gfeULV\"]//div[@class=\"sc-cLQEGU hyoued\"]')\n",
    "        #segments = flight.find_elements_by_xpath('//div[@class=\"sc-hZSUBg gfeULV\"]//div[@class=\"sc-cLQEGU hyoued\"]')\n",
    "        \n",
    "        print('Stopover modal initiate scrapping')\n",
    "        stopover_info = []\n",
    "        \n",
    "        print('Stopover segment initiate scrapping')\n",
    "\n",
    "        rutas = WebDriverWait(driver, delay).until(EC.presence_of_element_located((By.XPATH, '//div[@class=\"sc-hZSUBg gfeULV\"]//div[@class=\"sc-cLQEGU hyoued\"]')))\n",
    "        rutas = flight.find_elements_by_xpath('//div[@class = \"sc-bwCtUz iybVbT\"]/abbr')\n",
    "        horas = flight.find_elements_by_xpath('//div[@class = \"sc-bwCtUz iybVbT\"]/time')\n",
    "        duracion = flight.find_elements_by_xpath('//span[@class = \"sc-esjQYD dMquDU\"]/time')\n",
    "        airplane = flight.find_elements_by_xpath('//div[@class = \"airline-flight-details\"]/span[@class = \"sc-gzOgki uTyOl\"]')\n",
    "        num_flight = flight.find_elements_by_xpath('//div[@class = \"airline-flight-details\"]/b')\n",
    "        for j, i in enumerate(range(0,len(rutas),2)):\n",
    "            print('De',rutas[i].text,'a las',horas[i].text, 'a' ,rutas[i+1].text,'a las', horas[i+1].text, 'Duracion',duracion[i].get_attribute('datetime'),'Numero de vuelo',num_flight[j].text,'Avion',airplane[j].text)\n",
    "            if i+2 < len(rutas):\n",
    "                print(\"Duracion escala:\",duracion[i+1].get_attribute('datetime'),'H')\n",
    "        \n",
    "            #stopover_info.append(data_dict)\n",
    "            \n",
    "        driver.find_element_by_xpath('//div[@class=\"modal-content sc-iwsKbI eHVGAN\"]//button[@class=\"close\"]').click()\n",
    "\n",
    "        print('')\n",
    "        #print(data_dict)\n",
    "        print('')\n",
    "        print('Stopover segment finalizing scrapping')\n",
    "            \n",
    "        print('Stopover modal finish scrapping')\n",
    "\n",
    "    except TimeoutException:\n",
    "        print('Stopover modal takes too long to load')\n",
    "        #stopover_info = []\n",
    "    \n",
    "    stopover_info = []\n",
    "    return stopover_info"
   ]
  },
  {
   "cell_type": "code",
   "execution_count": 58,
   "metadata": {},
   "outputs": [],
   "source": [
    "def get_stopover(flight):\n",
    "    \n",
    "    '''\n",
    "    Function to get a dict list with info about the stopover of each flight\n",
    "    '''\n",
    "    \n",
    "    # Add a delay\n",
    "    # time.sleep(10)\n",
    "    delay = 400\n",
    "    try:\n",
    "        # Add a intelligent delay\n",
    "        print('Stopover modal loading...')\n",
    "        stopover_button = flight.find_element_by_xpath('.//div[@class=\"flight-summary-stops-description\"]/button')\n",
    "        stopover_button.click()\n",
    "        \n",
    "        \n",
    "        #segmentos = WebDriverWait(driver, delay).until(EC.presence_of_element_located((By.XPATH, '//div[@class=\"sc-hZSUBg gfeULV\"]//div[@class=\"sc-cLQEGU hyoued\"]')))\n",
    "        #segmentos = flight.find_elements_by_xpath('//div[@class=\"sc-hZSUBg gfeULV\"]//div[@class=\"sc-cLQEGU hyoued\"]')\n",
    "        #segments = flight.find_elements_by_xpath('//div[@class=\"sc-hZSUBg gfeULV\"]//div[@class=\"sc-cLQEGU hyoued\"]')\n",
    "        \n",
    "        print('Stopover modal initiate scrapping')\n",
    "        stopover_info = []\n",
    "        \n",
    "        print('Stopover segment initiate scrapping')\n",
    "\n",
    "        rutas = WebDriverWait(driver, delay).until(EC.presence_of_element_located((By.XPATH, '//div[@class=\"sc-hZSUBg gfeULV\"]//div[@class=\"sc-cLQEGU hyoued\"]')))\n",
    "        rutas = flight.find_elements_by_xpath('//div[@class = \"sc-bwCtUz iybVbT\"]/abbr')\n",
    "        horas = flight.find_elements_by_xpath('//div[@class = \"sc-bwCtUz iybVbT\"]/time')\n",
    "        duracion = flight.find_elements_by_xpath('//span[@class = \"sc-esjQYD dMquDU\"]/time')\n",
    "        airplane = flight.find_elements_by_xpath('//div[@class = \"airline-flight-details\"]/span[@class = \"sc-gzOgki uTyOl\"]')\n",
    "        num_flight = flight.find_elements_by_xpath('//div[@class = \"airline-flight-details\"]/b')\n",
    "        for j, i in enumerate(range(0,len(rutas),2)):\n",
    "            #print('De',rutas[i].text,'a las',horas[i].text, 'a' ,rutas[i+1].text,'a las', horas[i+1].text, 'Duracion',duracion[i].get_attribute('datetime'),'Numero de vuelo',num_flight[j].text,'Avion',airplane[j].text)\n",
    "            \n",
    "            departure = rutas[i].text\n",
    "            departure_time = horas[i].text\n",
    "            arrival = rutas[i+1].text\n",
    "            arrival_time = horas[i+1].text\n",
    "            flight_duration = duracion[i].get_attribute('datetime')\n",
    "            flight_number = num_flight[j].text\n",
    "            flight_airplane_model = airplane[j].text\n",
    "            stopover_duration = []\n",
    "            \n",
    "            if i+2 < len(rutas):\n",
    "                #print(\"Duracion escala:\",duracion[i+1].get_attribute('datetime'),'H')\n",
    "                stopover_duration = duracion[i+1].get_attribute('datetime')\n",
    "\n",
    "            data_dict = {\n",
    "                'departure': departure,\n",
    "                'departure_time': departure_time,\n",
    "                'flight_duration': flight_duration,\n",
    "                'arrival': arrival,\n",
    "                'arrival_time': arrival_time,\n",
    "                'flight_number': flight_number,\n",
    "                'flight_airplane_model': flight_airplane_model,\n",
    "                'stopover_duration': stopover_duration\n",
    "            }\n",
    "            \n",
    "            stopover_info.append(data_dict)\n",
    "            \n",
    "        driver.find_element_by_xpath('//div[@class=\"modal-content sc-iwsKbI eHVGAN\"]//button[@class=\"close\"]').click()\n",
    "\n",
    "        \n",
    "        print('Stopover segment finalizing scrapping')\n",
    "        #print(stopover_info)\n",
    "        print('Stopover modal finish scrapping')\n",
    "\n",
    "    except TimeoutException:\n",
    "        print('Stopover modal takes too long to load')\n",
    "        stopover_info = []\n",
    "    \n",
    "    return stopover_info\n"
   ]
  },
  {
   "cell_type": "code",
   "execution_count": 59,
   "metadata": {},
   "outputs": [],
   "source": [
    "def get_flight_schedules(flight):\n",
    "    \n",
    "    '''\n",
    "    Function that returns a dict with the flight schedules (departure and arrival) of each flight,\n",
    "    incluiding duration\n",
    "    '''\n",
    "    print('   Getting flight schedules')\n",
    "    departure = flight.find_element_by_xpath('.//div[@class=\"departure\"]/span[@class=\"ground-point-name\"]').text\n",
    "    departure_time = flight.find_element_by_xpath('.//div[@class=\"departure\"]/time').get_attribute('datetime')\n",
    "    arrival = flight.find_element_by_xpath('.//div[@class=\"arrival\"]/span[@class=\"ground-point-name\"]').text\n",
    "    arrival_time = flight.find_element_by_xpath('.//div[@class=\"arrival\"]/time').get_attribute('datetime')\n",
    "    flight_duration = flight.find_element_by_xpath('.//span[@class=\"duration\"]/time').get_attribute('datetime')\n",
    "    flight_duration = flight_duration.replace('PT', '')\n",
    "    currency = flight.find_element_by_xpath('.//span[@class=\"price\"]/span[@class=\"currency-symbol\"]').text\n",
    "    price = flight.find_element_by_xpath('.//span[@class=\"price\"]/span[@class=\"value\"]').text\n",
    "  \n",
    "    \n",
    "    flight_schedules = {'departure': departure, 'departure_time': departure_time, 'arrival': arrival, 'arrival_time': arrival_time, 'flight_duration': flight_duration, 'currency': currency, 'price': price}\n",
    "    #print(flight_schedules)\n",
    "    print('   Finish getting flight schedules')\n",
    "    \n",
    "    return flight_schedules"
   ]
  },
  {
   "cell_type": "code",
   "execution_count": 60,
   "metadata": {},
   "outputs": [],
   "source": [
    "def get_info(driver):\n",
    "    \n",
    "    flights = driver.find_elements_by_xpath('//li[@class=\"flight\"]')\n",
    "    print(f'Se encontraron {len(flights)} vuelos.')\n",
    "    print('Iniciando scraping')\n",
    "    info = []\n",
    "    prices = []\n",
    "    \n",
    "    for flight in flights:\n",
    "        \n",
    "        #Get general times on each flight\n",
    "\n",
    "        flight_schedules = get_flight_schedules(flight)\n",
    "\n",
    "        stopovers = get_stopover(flight)\n",
    "        #stopovers = []\n",
    "        \n",
    "        # Close modal window\n",
    "        #flight.find_element_by_xpath('.//div[@class=\"modal-content sc-iwsKbI eHVGAN\"]//button[@class=\"close\"]').click()\n",
    "        \n",
    "        #Click on flight to get price details\n",
    "        #flight.click()\n",
    "        #prices = get_prices(flight)\n",
    "        #flight.click()\n",
    "        \n",
    "        info.append({'prices': prices, 'flight_schedules': flight_schedules, 'stopovers': stopovers})\n",
    "        #info.append({'flight_schedules': flight_schedules})\n",
    "        \n",
    "        #print(info)\n",
    "        print('Finish getting flight info. Searching next flight...')\n",
    "        print('')\n",
    "    \n",
    "    print('Finish')\n",
    "    print('')\n",
    "    print('')\n",
    "        \n",
    "    return info"
   ]
  },
  {
   "cell_type": "code",
   "execution_count": 62,
   "metadata": {},
   "outputs": [
    {
     "name": "stdout",
     "output_type": "stream",
     "text": [
      "Page finish loading\n",
      "Se encontraron 7 vuelos.\n",
      "Iniciando scraping\n",
      "   Getting flight schedules\n",
      "   Finish getting flight schedules\n",
      "Stopover modal loading...\n",
      "Stopover modal initiate scrapping\n",
      "Stopover segment initiate scrapping\n",
      "Stopover segment finalizing scrapping\n",
      "Stopover modal finish scrapping\n",
      "Finish getting flight info. Searching next flight...\n",
      "\n",
      "   Getting flight schedules\n",
      "   Finish getting flight schedules\n",
      "Stopover modal loading...\n",
      "Stopover modal initiate scrapping\n",
      "Stopover segment initiate scrapping\n",
      "Stopover segment finalizing scrapping\n",
      "Stopover modal finish scrapping\n",
      "Finish getting flight info. Searching next flight...\n",
      "\n",
      "   Getting flight schedules\n",
      "   Finish getting flight schedules\n",
      "Stopover modal loading...\n",
      "Stopover modal initiate scrapping\n",
      "Stopover segment initiate scrapping\n",
      "Stopover segment finalizing scrapping\n",
      "Stopover modal finish scrapping\n",
      "Finish getting flight info. Searching next flight...\n",
      "\n",
      "   Getting flight schedules\n",
      "   Finish getting flight schedules\n",
      "Stopover modal loading...\n",
      "Stopover modal initiate scrapping\n",
      "Stopover segment initiate scrapping\n",
      "Stopover segment finalizing scrapping\n",
      "Stopover modal finish scrapping\n",
      "Finish getting flight info. Searching next flight...\n",
      "\n",
      "   Getting flight schedules\n",
      "   Finish getting flight schedules\n",
      "Stopover modal loading...\n",
      "Stopover modal initiate scrapping\n",
      "Stopover segment initiate scrapping\n",
      "Stopover segment finalizing scrapping\n",
      "Stopover modal finish scrapping\n",
      "Finish getting flight info. Searching next flight...\n",
      "\n",
      "   Getting flight schedules\n",
      "   Finish getting flight schedules\n",
      "Stopover modal loading...\n",
      "Stopover modal initiate scrapping\n",
      "Stopover segment initiate scrapping\n",
      "Stopover segment finalizing scrapping\n",
      "Stopover modal finish scrapping\n",
      "Finish getting flight info. Searching next flight...\n",
      "\n",
      "   Getting flight schedules\n",
      "   Finish getting flight schedules\n",
      "Stopover modal loading...\n",
      "Stopover modal initiate scrapping\n",
      "Stopover segment initiate scrapping\n",
      "Stopover segment finalizing scrapping\n",
      "Stopover modal finish scrapping\n",
      "Finish getting flight info. Searching next flight...\n",
      "\n",
      "Finish\n",
      "\n",
      "\n"
     ]
    },
    {
     "data": {
      "text/plain": [
       "[{'prices': [],\n",
       "  'flight_schedules': {'departure': 'BOG',\n",
       "   'departure_time': '18:22',\n",
       "   'arrival': 'JFK',\n",
       "   'arrival_time': '07:45',\n",
       "   'flight_duration': '13H23M',\n",
       "   'currency': 'US$',\n",
       "   'price': '2304'},\n",
       "  'stopovers': [{'departure': 'BOG',\n",
       "    'departure_time': '18:22',\n",
       "    'flight_duration': '3:3',\n",
       "    'arrival': 'LIM',\n",
       "    'arrival_time': '21:25',\n",
       "    'flight_number': 'LA2447',\n",
       "    'flight_airplane_model': 'Airbus 320-200',\n",
       "    'stopover_duration': '2:50'},\n",
       "   {'departure': 'LIM',\n",
       "    'departure_time': '00:15',\n",
       "    'flight_duration': '7:30',\n",
       "    'arrival': 'JFK',\n",
       "    'arrival_time': '07:45',\n",
       "    'flight_number': 'LA530',\n",
       "    'flight_airplane_model': 'Boeing 787-9',\n",
       "    'stopover_duration': []}]},\n",
       " {'prices': [],\n",
       "  'flight_schedules': {'departure': 'BOG',\n",
       "   'departure_time': '10:15',\n",
       "   'arrival': 'JFK',\n",
       "   'arrival_time': '07:05',\n",
       "   'flight_duration': '20H50M',\n",
       "   'currency': 'US$',\n",
       "   'price': '980'},\n",
       "  'stopovers': [{'departure': 'BOG',\n",
       "    'departure_time': '10:15',\n",
       "    'flight_duration': '5:40',\n",
       "    'arrival': 'SCL',\n",
       "    'arrival_time': '17:55',\n",
       "    'flight_number': 'LA575',\n",
       "    'flight_airplane_model': 'Boeing 787-800',\n",
       "    'stopover_duration': '4:50'},\n",
       "   {'departure': 'SCL',\n",
       "    'departure_time': '22:45',\n",
       "    'flight_duration': '10:20',\n",
       "    'arrival': 'JFK',\n",
       "    'arrival_time': '07:05+1',\n",
       "    'flight_number': 'LA532',\n",
       "    'flight_airplane_model': 'Boeing 787-9',\n",
       "    'stopover_duration': []}]},\n",
       " {'prices': [],\n",
       "  'flight_schedules': {'departure': 'BOG',\n",
       "   'departure_time': '10:15',\n",
       "   'arrival': 'JFK',\n",
       "   'arrival_time': '07:45',\n",
       "   'flight_duration': '21H30M',\n",
       "   'currency': 'US$',\n",
       "   'price': '980'},\n",
       "  'stopovers': [{'departure': 'BOG',\n",
       "    'departure_time': '10:15',\n",
       "    'flight_duration': '5:40',\n",
       "    'arrival': 'SCL',\n",
       "    'arrival_time': '17:55',\n",
       "    'flight_number': 'LA575',\n",
       "    'flight_airplane_model': 'Boeing 787-800',\n",
       "    'stopover_duration': '2:45'},\n",
       "   {'departure': 'SCL',\n",
       "    'departure_time': '20:40',\n",
       "    'flight_duration': '3:45',\n",
       "    'arrival': 'LIM',\n",
       "    'arrival_time': '22:25',\n",
       "    'flight_number': 'LA530',\n",
       "    'flight_airplane_model': 'Boeing 787-9',\n",
       "    'stopover_duration': '1:50'},\n",
       "   {'departure': 'LIM',\n",
       "    'departure_time': '00:15',\n",
       "    'flight_duration': '7:30',\n",
       "    'arrival': 'JFK',\n",
       "    'arrival_time': '07:45',\n",
       "    'flight_number': 'LA530',\n",
       "    'flight_airplane_model': 'Boeing 787-9',\n",
       "    'stopover_duration': []}]},\n",
       " {'prices': [],\n",
       "  'flight_schedules': {'departure': 'BOG',\n",
       "   'departure_time': '18:22',\n",
       "   'arrival': 'LGA',\n",
       "   'arrival_time': '16:23',\n",
       "   'flight_duration': '22H1M',\n",
       "   'currency': 'US$',\n",
       "   'price': '2314'},\n",
       "  'stopovers': [{'departure': 'BOG',\n",
       "    'departure_time': '18:22',\n",
       "    'flight_duration': '3:3',\n",
       "    'arrival': 'LIM',\n",
       "    'arrival_time': '21:25',\n",
       "    'flight_number': 'LA2447',\n",
       "    'flight_airplane_model': 'Airbus 320-200',\n",
       "    'stopover_duration': '2:50'},\n",
       "   {'departure': 'LIM',\n",
       "    'departure_time': '00:15',\n",
       "    'flight_duration': '5:50',\n",
       "    'arrival': 'MIA',\n",
       "    'arrival_time': '06:05',\n",
       "    'flight_number': 'LA2460',\n",
       "    'flight_airplane_model': 'Boeing 767-300',\n",
       "    'stopover_duration': '7:25'},\n",
       "   {'departure': 'MIA',\n",
       "    'departure_time': '13:30',\n",
       "    'flight_duration': '2:53',\n",
       "    'arrival': 'LGA',\n",
       "    'arrival_time': '16:23',\n",
       "    'flight_number': 'LA6190',\n",
       "    'flight_airplane_model': 'Airbus 320-200',\n",
       "    'stopover_duration': []}]},\n",
       " {'prices': [],\n",
       "  'flight_schedules': {'departure': 'BOG',\n",
       "   'departure_time': '18:22',\n",
       "   'arrival': 'EWR',\n",
       "   'arrival_time': '15:00',\n",
       "   'flight_duration': '20H38M',\n",
       "   'currency': 'US$',\n",
       "   'price': '2314'},\n",
       "  'stopovers': [{'departure': 'BOG',\n",
       "    'departure_time': '18:22',\n",
       "    'flight_duration': '3:3',\n",
       "    'arrival': 'LIM',\n",
       "    'arrival_time': '21:25',\n",
       "    'flight_number': 'LA2447',\n",
       "    'flight_airplane_model': 'Airbus 320-200',\n",
       "    'stopover_duration': '2:50'},\n",
       "   {'departure': 'LIM',\n",
       "    'departure_time': '00:15',\n",
       "    'flight_duration': '5:50',\n",
       "    'arrival': 'MIA',\n",
       "    'arrival_time': '06:05',\n",
       "    'flight_number': 'LA2460',\n",
       "    'flight_airplane_model': 'Boeing 767-300',\n",
       "    'stopover_duration': '5:52'},\n",
       "   {'departure': 'MIA',\n",
       "    'departure_time': '11:57',\n",
       "    'flight_duration': '3:3',\n",
       "    'arrival': 'EWR',\n",
       "    'arrival_time': '15:00',\n",
       "    'flight_number': 'UA420',\n",
       "    'flight_airplane_model': '752',\n",
       "    'stopover_duration': []}]},\n",
       " {'prices': [],\n",
       "  'flight_schedules': {'departure': 'BOG',\n",
       "   'departure_time': '18:22',\n",
       "   'arrival': 'JFK',\n",
       "   'arrival_time': '15:43',\n",
       "   'flight_duration': '21H21M',\n",
       "   'currency': 'US$',\n",
       "   'price': '2314'},\n",
       "  'stopovers': [{'departure': 'BOG',\n",
       "    'departure_time': '18:22',\n",
       "    'flight_duration': '3:3',\n",
       "    'arrival': 'LIM',\n",
       "    'arrival_time': '21:25',\n",
       "    'flight_number': 'LA2447',\n",
       "    'flight_airplane_model': 'Airbus 320-200',\n",
       "    'stopover_duration': '2:50'},\n",
       "   {'departure': 'LIM',\n",
       "    'departure_time': '00:15',\n",
       "    'flight_duration': '5:50',\n",
       "    'arrival': 'MIA',\n",
       "    'arrival_time': '06:05',\n",
       "    'flight_number': 'LA2460',\n",
       "    'flight_airplane_model': 'Boeing 767-300',\n",
       "    'stopover_duration': '6:50'},\n",
       "   {'departure': 'MIA',\n",
       "    'departure_time': '12:55',\n",
       "    'flight_duration': '2:48',\n",
       "    'arrival': 'JFK',\n",
       "    'arrival_time': '15:43',\n",
       "    'flight_number': 'DL1250',\n",
       "    'flight_airplane_model': 'Airbus 319',\n",
       "    'stopover_duration': []}]},\n",
       " {'prices': [],\n",
       "  'flight_schedules': {'departure': 'BOG',\n",
       "   'departure_time': '18:22',\n",
       "   'arrival': 'EWR',\n",
       "   'arrival_time': '16:09',\n",
       "   'flight_duration': '21H47M',\n",
       "   'currency': 'US$',\n",
       "   'price': '2314'},\n",
       "  'stopovers': [{'departure': 'BOG',\n",
       "    'departure_time': '18:22',\n",
       "    'flight_duration': '3:3',\n",
       "    'arrival': 'LIM',\n",
       "    'arrival_time': '21:25',\n",
       "    'flight_number': 'LA2447',\n",
       "    'flight_airplane_model': 'Airbus 320-200',\n",
       "    'stopover_duration': '2:50'},\n",
       "   {'departure': 'LIM',\n",
       "    'departure_time': '00:15',\n",
       "    'flight_duration': '5:50',\n",
       "    'arrival': 'MIA',\n",
       "    'arrival_time': '06:05',\n",
       "    'flight_number': 'LA2460',\n",
       "    'flight_airplane_model': 'Boeing 767-300',\n",
       "    'stopover_duration': '6:58'},\n",
       "   {'departure': 'MIA',\n",
       "    'departure_time': '13:03',\n",
       "    'flight_duration': '3:6',\n",
       "    'arrival': 'EWR',\n",
       "    'arrival_time': '16:09',\n",
       "    'flight_number': 'UA1961',\n",
       "    'flight_airplane_model': '739',\n",
       "    'stopover_duration': []}]}]"
      ]
     },
     "execution_count": 62,
     "metadata": {},
     "output_type": "execute_result"
    }
   ],
   "source": [
    "import time\n",
    "from selenium.webdriver.support.ui import WebDriverWait\n",
    "from selenium.webdriver.support import expected_conditions as EC\n",
    "from selenium.webdriver.common.by import By\n",
    "from selenium.common.exceptions import TimeoutException\n",
    "\n",
    "from selenium import webdriver\n",
    "\n",
    "#Ejemplo\n",
    "#url = 'https://www.latam.com/es_mx/apps/personas/booking?fecha1_dia=01&fecha1_anomes=2020-11&auAvailability=1&ida_vuelta=ida&vuelos_origen=Ciudad%20de%20M%C3%A9xico&from_city1=BUE&vuelos_destino=Canc%C3%BAn&to_city1=MAD&flex=1&vuelos_fecha_salida_ddmmaaaa=29/08/2020&cabina=Y&nadults=1&nchildren=0&ninfants=0&cod_promo=&stopover_outbound_days=0&stopover_inbound_days=0&application=#/'\n",
    "\n",
    "# Medellín - México\n",
    "url = 'https://www.latam.com/es_mx/apps/personas/booking?fecha1_dia=05&fecha1_anomes=2020-11&auAvailability=1&ida_vuelta=ida&vuelos_origen=Ciudad%20de%20M%C3%A9xico&from_city1=MDE&vuelos_destino=Canc%C3%BAn&to_city1=MEX&flex=1&vuelos_fecha_salida_ddmmaaaa=29/08/2020&cabina=Y&nadults=1&nchildren=0&ninfants=0&cod_promo=&stopover_outbound_days=0&stopover_inbound_days=0&application=#/'\n",
    "\n",
    "# Bogotá - New York\n",
    "url = 'https://www.latam.com/es_mx/apps/personas/booking?fecha1_dia=05&fecha1_anomes=2020-11&auAvailability=1&ida_vuelta=ida&vuelos_origen=Ciudad%20de%20M%C3%A9xico&from_city1=BOG&vuelos_destino=Canc%C3%BAn&to_city1=NYC&flex=1&vuelos_fecha_salida_ddmmaaaa=29/08/2020&cabina=Y&nadults=1&nchildren=0&ninfants=0&cod_promo=&stopover_outbound_days=0&stopover_inbound_days=0&application=#/'\n",
    "\n",
    "#url='https://www.latam.com/es_mx/apps/personas/booking?fecha1_dia=01&fecha1_anomes=2020-12&auAvailability=1&ida_vuelta=ida&vuelos_origen=Ciudad%20de%20M%C3%A9xico&from_city1=MEX&vuelos_destino=Bogot%C3%A1&to_city1=BOG&flex=1&vuelos_fecha_salida_ddmmaaaa=01/09/2020&cabina=Y&nadults=1&nchildren=0&ninfants=0&cod_promo=&stopover_outbound_days=0&stopover_inbound_days=0&application=#/'\n",
    "#url='https://www.latam.com/es_mx/apps/personas/booking?fecha1_dia=01&fecha1_anomes=2020-12&auAvailability=1&ida_vuelta=ida&vuelos_origen=Ciudad%20de%20M%C3%A9xico&from_city1=BOG&vuelos_destino=Bogot%C3%A1&to_city1=MDE&flex=1&vuelos_fecha_salida_ddmmaaaa=01/09/2020&cabina=Y&nadults=1&nchildren=0&ninfants=0&cod_promo=&stopover_outbound_days=0&stopover_inbound_days=0&application=#/'\n",
    "#url='https://www.latam.com/es_mx/apps/personas/booking?fecha1_dia=01&fecha1_anomes=2020-12&auAvailability=1&ida_vuelta=ida&vuelos_origen=Ciudad%20de%20M%C3%A9xico&from_city1=BOG&vuelos_destino=Bogot%C3%A1&to_city1=CTG&flex=1&vuelos_fecha_salida_ddmmaaaa=01/09/2020&cabina=Y&nadults=1&nchildren=0&ninfants=0&cod_promo=&stopover_outbound_days=0&stopover_inbound_days=0&application=#/'\n",
    "#url=''\n",
    "\n",
    "\n",
    "options = webdriver.ChromeOptions()\n",
    "options.add_argument('--incognito')\n",
    "driver = webdriver.Chrome(executable_path='../../chromedriver', options=options)\n",
    "\n",
    "driver.get(url)\n",
    "\n",
    "# Add a delay\n",
    "# time.sleep(10)\n",
    "delay = 50\n",
    "try:\n",
    "    # Add a intelligent delay\n",
    "    info = WebDriverWait(driver, delay).until(EC.presence_of_element_located((By.XPATH, '//li[@class=\"flight\"]')))\n",
    "    print('Page finish loading')\n",
    "    info = get_info(driver)\n",
    "except TimeoutException:\n",
    "    print('Page takes too long to load')\n",
    "    info = []\n",
    "\n",
    "#get_info(driver)\n",
    "driver.close()\n",
    "\n",
    "info"
   ]
  },
  {
   "cell_type": "code",
   "execution_count": null,
   "metadata": {},
   "outputs": [],
   "source": []
  }
 ],
 "metadata": {
  "kernelspec": {
   "display_name": "Python 3",
   "language": "python",
   "name": "python3"
  },
  "language_info": {
   "codemirror_mode": {
    "name": "ipython",
    "version": 3
   },
   "file_extension": ".py",
   "mimetype": "text/x-python",
   "name": "python",
   "nbconvert_exporter": "python",
   "pygments_lexer": "ipython3",
   "version": "3.8.3"
  }
 },
 "nbformat": 4,
 "nbformat_minor": 4
}
